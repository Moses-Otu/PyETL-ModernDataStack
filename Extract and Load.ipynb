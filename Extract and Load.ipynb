{
  "nbformat": 4,
  "nbformat_minor": 0,
  "metadata": {
    "colab": {
      "provenance": []
    },
    "kernelspec": {
      "name": "python3",
      "display_name": "Python 3"
    },
    "language_info": {
      "name": "python"
    }
  },
  "cells": [
    {
      "cell_type": "code",
      "execution_count": 1,
      "metadata": {
        "id": "_KMtmNkdOnAD"
      },
      "outputs": [],
      "source": [
        "import requests\n",
        "from bs4 import BeautifulSoup\n",
        "import pandas as pd\n"
      ]
    },
    {
      "cell_type": "markdown",
      "source": [
        "*Python script to extract league standing*"
      ],
      "metadata": {
        "id": "vWzwcxmhO71S"
      }
    },
    {
      "cell_type": "code",
      "source": [
        "\n",
        "\n",
        "# List of URLs to scrape\n",
        "urls = [\n",
        "    {\"url\": \"https://www.skysports.com/ligue-1-table\", \"source\": \"Ligue 1\"},\n",
        "    {\"url\": \"https://www.skysports.com/premier-league-table\", \"source\": \"Premier League\"},\n",
        "    {\"url\": \"https://www.skysports.com/la-liga-table\", \"source\": \"la liga\"},\n",
        "    {\"url\": \"https://www.skysports.com/bundesliga-table\", \"source\": \"Bundesliga\"},\n",
        "    {\"url\": \"https://www.skysports.com/serie-a-table\", \"source\": \"Seria A\"},\n",
        "    {\"url\": \"https://www.skysports.com/eredivisie-table\", \"source\": \"Eredivisie\"},\n",
        "    {\"url\": \"https://www.skysports.com/scottish-premier-table\", \"source\": \"Scottish premiership\"}\n",
        "\n",
        "    # Add more URLs as needed\n",
        "]\n",
        "\n",
        "# Create an empty list to store DataFrames\n",
        "dfs = []\n",
        "\n",
        "for url_info in urls:\n",
        "    url = url_info[\"url\"]\n",
        "    source = url_info[\"source\"]\n",
        "\n",
        "    # Send HTTP Request and Parse HTML\n",
        "    r = requests.get(url)\n",
        "    soup = BeautifulSoup(r.text, \"lxml\")\n",
        "\n",
        "    # Find and Extract Table Headers\n",
        "    table = soup.find(\"table\", class_=\"standing-table__table\")\n",
        "    headers = table.find_all(\"th\")\n",
        "    titles = [i.text for i in headers]\n",
        "\n",
        "    # Create an Empty DataFrame\n",
        "    df = pd.DataFrame(columns=titles)\n",
        "\n",
        "    # Iterate Through Table Rows and Extract Data\n",
        "    rows = table.find_all(\"tr\")\n",
        "    for i in rows[1:]:\n",
        "        data = i.find_all(\"td\")\n",
        "        row = [tr.text.strip() for tr in data]  # Apply .strip() to remove \\n\n",
        "        l = len(df)\n",
        "        df.loc[l] = row\n",
        "\n",
        "    # Add a column for source URL\n",
        "    df[\"Source\"] = source\n",
        "\n",
        "    # Append the DataFrame to the list\n",
        "    dfs.append(df)\n",
        "\n",
        "# Concatenate all DataFrames into a single DataFrame\n",
        "football_standing = pd.concat(dfs, ignore_index=True)\n",
        "\n",
        "#remove first teo column\n",
        "\n",
        "football_standing = football_standing.iloc[:, 1:]\n",
        "\n",
        "# Print the merged DataFrame\n",
        "print(football_standing)\n"
      ],
      "metadata": {
        "id": "khYQfwKmOsGi"
      },
      "execution_count": null,
      "outputs": []
    },
    {
      "cell_type": "markdown",
      "source": [
        "*Python script to extract scores from game played*"
      ],
      "metadata": {
        "id": "pSn3LoOMPHkP"
      }
    },
    {
      "cell_type": "code",
      "source": [
        "\n",
        "\n",
        "url = \"https://www.skysports.com/football-results\"\n",
        "r = requests.get(url)\n",
        "soup = BeautifulSoup(r.text, \"lxml\")\n",
        "\n",
        "home_team = soup.find_all(\"span\", class_=\"matches__item-col matches__participant matches__participant--side1\")\n",
        "x = [name.strip() for i in home_team for name in i.stripped_strings]\n",
        "\n",
        "scores = soup.find_all(\"span\", class_=\"matches__teamscores\")\n",
        "s = [name.strip().replace('\\n\\n', '\\n') for i in scores for name in i.stripped_strings]\n",
        "appended_scores = [f\"{s[i]}\\n{s[i+1]}\".replace('\\n', ' ') for i in range(0, len(s), 2)]\n",
        "\n",
        "away_team = soup.find_all(\"span\", class_=\"matches__item-col matches__participant matches__participant--side2\")\n",
        "y = [name.strip() for i in away_team for name in i.stripped_strings]\n",
        "\n",
        "# Make sure all arrays have the same length\n",
        "min_length = min(len(x), len(appended_scores), len(y))\n",
        "data = {\"Home Team\": x[:min_length], \"Scores\": appended_scores[:min_length], \"Away Team\": y[:min_length]}\n",
        "\n",
        "# Create a DataFrame\n",
        "footballscores = pd.DataFrame(data)\n",
        "print(footballscores)\n"
      ],
      "metadata": {
        "id": "utsNAzwROvQR"
      },
      "execution_count": null,
      "outputs": []
    },
    {
      "cell_type": "markdown",
      "source": [
        "*To connect with your AWS s3 bucket, you will be required to input keys upon running the below code*"
      ],
      "metadata": {
        "id": "MQPaJBEdQAnK"
      }
    },
    {
      "cell_type": "code",
      "source": [
        "!pip install awscli\n",
        "!aws configure\n",
        "\n",
        "import boto3\n",
        "from io import StringIO"
      ],
      "metadata": {
        "id": "IxTy5JcuP7A9"
      },
      "execution_count": null,
      "outputs": []
    },
    {
      "cell_type": "code",
      "source": [
        "# Concatenate all DataFrames into a single DataFrame\n",
        "footballstanding = pd.concat(dfs, ignore_index=True)\n",
        "footballstanding = footballstanding.iloc[:, 1:]\n",
        "\n",
        "# convert DataFrame to CSV\n",
        "csv_buffer = StringIO()\n",
        "footballstanding.to_csv(csv_buffer)\n",
        "\n",
        "s3_resources = boto3.resource('s3')\n",
        "\n",
        "# footballstanding was erroneously used as my bucket name. Please use another unique name\n",
        "s3_resources.Object('footballstanding','footballstanding.csv').put(Body=csv_buffer.getvalue())"
      ],
      "metadata": {
        "id": "J94RK51dQSYY"
      },
      "execution_count": null,
      "outputs": []
    },
    {
      "cell_type": "code",
      "source": [
        "# convert DataFrame to CSV\n",
        "csv_buffer = StringIO()\n",
        "footballscores.to_csv(csv_buffer)\n",
        "\n",
        "s3_resources = boto3.resource('s3')\n",
        "\n",
        "s3_resources.Object('footballstanding','footballscores.csv').put(Body=csv_buffer.getvalue())"
      ],
      "metadata": {
        "id": "woWDTezYQgsG"
      },
      "execution_count": null,
      "outputs": []
    }
  ]
}
